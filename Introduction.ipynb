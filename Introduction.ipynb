{
  "nbformat": 4,
  "nbformat_minor": 0,
  "metadata": {
    "colab": {
      "provenance": [],
      "authorship_tag": "ABX9TyOtdr7OrAMsjV+xx2RYmSVl",
      "include_colab_link": true
    },
    "kernelspec": {
      "name": "python3",
      "display_name": "Python 3"
    },
    "language_info": {
      "name": "python"
    }
  },
  "cells": [
    {
      "cell_type": "markdown",
      "metadata": {
        "id": "view-in-github",
        "colab_type": "text"
      },
      "source": [
        "<a href=\"https://colab.research.google.com/github/Nostal1ga/8959prgram_prepare/blob/main/Introduction.ipynb\" target=\"_parent\"><img src=\"https://colab.research.google.com/assets/colab-badge.svg\" alt=\"Open In Colab\"/></a>"
      ]
    },
    {
      "cell_type": "code",
      "execution_count": 4,
      "metadata": {
        "id": "7ef0yxLJeJjI"
      },
      "outputs": [],
      "source": [
        "import torch_geometric\n",
        "from torch_geometric.datasets import Planetoid"
      ]
    },
    {
      "cell_type": "code",
      "source": [
        "dataset = Planetoid(root=\"tutorial1\",name=\"Cora\")#读取文件并放在tutorial1为root的文件夹下"
      ],
      "metadata": {
        "colab": {
          "base_uri": "https://localhost:8080/"
        },
        "id": "p-FFRRf50zIR",
        "outputId": "ec916731-268a-475e-f61d-32e992f293a8"
      },
      "execution_count": 5,
      "outputs": [
        {
          "output_type": "stream",
          "name": "stderr",
          "text": [
            "Downloading https://github.com/kimiyoung/planetoid/raw/master/data/ind.cora.x\n",
            "Downloading https://github.com/kimiyoung/planetoid/raw/master/data/ind.cora.tx\n",
            "Downloading https://github.com/kimiyoung/planetoid/raw/master/data/ind.cora.allx\n",
            "Downloading https://github.com/kimiyoung/planetoid/raw/master/data/ind.cora.y\n",
            "Downloading https://github.com/kimiyoung/planetoid/raw/master/data/ind.cora.ty\n",
            "Downloading https://github.com/kimiyoung/planetoid/raw/master/data/ind.cora.ally\n",
            "Downloading https://github.com/kimiyoung/planetoid/raw/master/data/ind.cora.graph\n",
            "Downloading https://github.com/kimiyoung/planetoid/raw/master/data/ind.cora.test.index\n",
            "Processing...\n",
            "Done!\n"
          ]
        }
      ]
    },
    {
      "cell_type": "code",
      "source": [
        "print(dataset)\n",
        "print(\"number of graphs:\\t\\t\",len(dataset))\n",
        "print(\"number of classes:\\t\\t\",dataset.num_classes)\n",
        "print(\"number of features:\\t\\t\",dataset.num_node_features)\n",
        "print(\"number of edge features:\\t\",dataset.num_edge_features)"
      ],
      "metadata": {
        "colab": {
          "base_uri": "https://localhost:8080/"
        },
        "id": "8xpgBQAj1IOg",
        "outputId": "4fca5f68-cab0-4717-9169-1840c7b1d55a"
      },
      "execution_count": 9,
      "outputs": [
        {
          "output_type": "stream",
          "name": "stdout",
          "text": [
            "Cora()\n",
            "number of graphs:\t\t 1\n",
            "number of classes:\t\t 7\n",
            "number of features:\t\t 1433\n",
            "number of edge features:\t 0\n"
          ]
        }
      ]
    },
    {
      "cell_type": "code",
      "source": [
        "#.shape()\n",
        "print(dataset.data)"
      ],
      "metadata": {
        "colab": {
          "base_uri": "https://localhost:8080/"
        },
        "id": "3cZ4mAa72Sji",
        "outputId": "9dc1f94c-2387-42a1-d947-094361184e48"
      },
      "execution_count": 10,
      "outputs": [
        {
          "output_type": "stream",
          "name": "stdout",
          "text": [
            "Data(x=[2708, 1433], edge_index=[2, 10556], y=[2708], train_mask=[2708], val_mask=[2708], test_mask=[2708])\n"
          ]
        },
        {
          "output_type": "stream",
          "name": "stderr",
          "text": [
            "/usr/local/lib/python3.10/dist-packages/torch_geometric/data/in_memory_dataset.py:301: UserWarning: It is not recommended to directly access the internal storage format `data` of an 'InMemoryDataset'. If you are absolutely certain what you are doing, access the internal storage via `InMemoryDataset._data` instead to suppress this warning. Alternatively, you can access stacked individual attributes of every graph via `dataset.{attr_name}`.\n",
            "  warnings.warn(msg)\n"
          ]
        }
      ]
    },
    {
      "cell_type": "code",
      "source": [
        "print(\"edge_index:\\t\\t\",dataset.data.edge_index.shape)\n",
        "print(dataset.data.edge_index)\n",
        "print(\"\\n\")\n",
        "print(\"train_mask:\\t\\t\",dataset.data.train_mask.shape)\n",
        "print(dataset.data.train_mask)#看到具体哪些数据点被标记为训练用（通常标记为True）和哪些不是（标记为False）\n",
        "print(\"\\n\")\n",
        "print(\"x:\\t\\t\",dataset.data.x.shape)#print出data里面x是几乘几的matrix\n",
        "print(dataset.data.x)\n",
        "print(\"\\n\")\n",
        "print(\"y:\\t\\t\",dataset.data.y.shape)#print出data里面y是几乘几的matrix\n",
        "print(dataset.data.y)"
      ],
      "metadata": {
        "colab": {
          "base_uri": "https://localhost:8080/"
        },
        "id": "JDVUL1632oVx",
        "outputId": "4e7af27a-60f7-4aed-9667-183c67bd239f"
      },
      "execution_count": 11,
      "outputs": [
        {
          "output_type": "stream",
          "name": "stdout",
          "text": [
            "edge_index:\t\t torch.Size([2, 10556])\n",
            "tensor([[ 633, 1862, 2582,  ...,  598, 1473, 2706],\n",
            "        [   0,    0,    0,  ..., 2707, 2707, 2707]])\n",
            "\n",
            "\n",
            "train_mask:\t\t torch.Size([2708])\n",
            "tensor([ True,  True,  True,  ..., False, False, False])\n",
            "\n",
            "\n",
            "x:\t\t torch.Size([2708, 1433])\n",
            "tensor([[0., 0., 0.,  ..., 0., 0., 0.],\n",
            "        [0., 0., 0.,  ..., 0., 0., 0.],\n",
            "        [0., 0., 0.,  ..., 0., 0., 0.],\n",
            "        ...,\n",
            "        [0., 0., 0.,  ..., 0., 0., 0.],\n",
            "        [0., 0., 0.,  ..., 0., 0., 0.],\n",
            "        [0., 0., 0.,  ..., 0., 0., 0.]])\n",
            "\n",
            "\n",
            "y:\t\t torch.Size([2708])\n",
            "tensor([3, 4, 4,  ..., 3, 3, 3])\n"
          ]
        }
      ]
    },
    {
      "cell_type": "code",
      "source": [
        "import os.path as osp\n",
        "import torch\n",
        "import torch.nn.functional as F\n",
        "from torch_geometric.nn import SAGEConv"
      ],
      "metadata": {
        "id": "omSOMVx-3h3P"
      },
      "execution_count": 12,
      "outputs": []
    },
    {
      "cell_type": "markdown",
      "source": [],
      "metadata": {
        "id": "yZyw2K38GyHU"
      }
    },
    {
      "cell_type": "code",
      "source": [
        "data = dataset[0]"
      ],
      "metadata": {
        "id": "RIXPChUK7uU1"
      },
      "execution_count": 13,
      "outputs": []
    },
    {
      "cell_type": "code",
      "source": [
        "#自定义网络模型\n",
        "class Net(torch.nn.Module):#创建网络模型\n",
        "  def __init__(self):\n",
        "    super(Net, self).__init__()\n",
        "    #super(Net, self).__init__()这段代码的作用是确保父类torch.nn.Module的构造器被正确调用\n",
        "    self.conv = SAGEConv(dataset.num_features,#x\n",
        "                         dataset.num_classes,#classes\n",
        "                         aggr=\"max\")#在聚合邻居节点特征时使用最大值聚合策略\n",
        "    #初始sageconv卷积图层\n",
        "\n",
        "  def forward(self):\n",
        "    x = self.conv(data.x,data.edge_index)\n",
        "    return F.log_softmax(x,dim=1)"
      ],
      "metadata": {
        "id": "qrfvUwpb7_Wb"
      },
      "execution_count": 35,
      "outputs": []
    },
    {
      "cell_type": "code",
      "source": [
        "device = torch.device('cuda' if torch.cuda.is_available() else 'cpu')\n",
        "model, data = Net().to(device),data.to(device)\n",
        "optimizer = torch.optim.Adam(model.parameters(),lr=0.01, weight_decay=5e-04)"
      ],
      "metadata": {
        "id": "81axmG0H-Xdu"
      },
      "execution_count": 36,
      "outputs": []
    },
    {
      "cell_type": "code",
      "source": [
        "def train():\n",
        "  model.train()  # 将模型设置为训练模式。这对于具有特定层（如Dropout和BatchNorm）的模型特别重要，因为这些层在训练和评估时的行为不同。\n",
        "  optimizer.zero_grad()  # 清除之前的梯度。这是因为梯度是累积的，如果不清零，梯度会包含多个batch的累积梯度，导致训练不准确。\n",
        "  # 计算损失函数。这里使用负对数似然损失（NLL Loss），它常用于多分类问题。model()[data.train_mask]是模型对训练集的预测，data.y[data.train_mask]是训练集的真实标签。\n",
        "  F.nll_loss(model()[data.train_mask], data.y[data.train_mask]).backward()\n",
        "  optimizer.step()  # 进行一步梯度下降，更新模型的参数。\n",
        "\n",
        "def test():\n",
        "  model.eval()  # 将模型设置为评估模式。与train()相对，这会关闭Dropout和BatchNorm等层的特定训练行为，使模型在评估/测试时保持稳定。\n",
        "  logits, accs = model(), []  # 获取模型的输出（logits）并初始化一个空列表来存储准确率。\n",
        "  # 循环处理train_mask, val_mask, test_mask，这些掩码用于指示哪些数据应该用于训练、验证和测试。\n",
        "  for _, mask in data('train_mask', 'val_mask', 'test_mask'):\n",
        "    pred = logits[mask].max(1)[1]  # 对于每个掩码，选取logits中最大的预测值作为预测类别。\n",
        "    # 计算准确率。eq函数比较预测和真实标签是否相等，sum().item()计算总的正确预测数，mask.sum().item()得到掩码中True的数量，即样本数。\n",
        "    acc = pred.eq(data.y[mask]).sum().item() / mask.sum().item()\n",
        "    accs.append(acc)  # 将计算得到的准确率添加到accs列表中。\n",
        "  return accs  # 返回包含训练集、验证集和测试集准确率的列表。"
      ],
      "metadata": {
        "id": "LfjCxBDr-sjw"
      },
      "execution_count": 37,
      "outputs": []
    },
    {
      "cell_type": "code",
      "source": [
        "best_val_acc = test_acc = 0\n",
        "for epoch in range(1,100):\n",
        "  train()\n",
        "  _, val_acc, tmp_test_acc = test()\n",
        "  if val_acc > best_val_acc:\n",
        "    best_val_acc = val_acc\n",
        "    test_acc = tmp_test_acc\n",
        "  log = \"Epoch: {:03d}, Val: {:4f}, Test: {:.4f}\"\n",
        "  if epoch % 10 == 0:\n",
        "    print(log.format(epoch,best_val_acc,test_acc))"
      ],
      "metadata": {
        "colab": {
          "base_uri": "https://localhost:8080/"
        },
        "id": "4Gm_mDzJDJYs",
        "outputId": "46c15ce5-ce0c-406c-97cb-db9c32b30f51"
      },
      "execution_count": 38,
      "outputs": [
        {
          "output_type": "stream",
          "name": "stdout",
          "text": [
            "Epoch: 010, Val: 0.720000, Test: 0.7310\n",
            "Epoch: 020, Val: 0.724000, Test: 0.7170\n",
            "Epoch: 030, Val: 0.726000, Test: 0.7150\n",
            "Epoch: 040, Val: 0.726000, Test: 0.7150\n",
            "Epoch: 050, Val: 0.728000, Test: 0.7140\n",
            "Epoch: 060, Val: 0.728000, Test: 0.7140\n",
            "Epoch: 070, Val: 0.730000, Test: 0.7210\n",
            "Epoch: 080, Val: 0.730000, Test: 0.7210\n",
            "Epoch: 090, Val: 0.730000, Test: 0.7210\n"
          ]
        }
      ]
    },
    {
      "cell_type": "markdown",
      "source": [],
      "metadata": {
        "id": "lSsFguuh_8QS"
      }
    }
  ]
}